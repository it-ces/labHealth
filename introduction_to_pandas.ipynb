{
  "nbformat": 4,
  "nbformat_minor": 0,
  "metadata": {
    "colab": {
      "provenance": []
    },
    "kernelspec": {
      "name": "python3",
      "display_name": "Python 3"
    },
    "language_info": {
      "name": "python"
    }
  },
  "cells": [
    {
      "cell_type": "markdown",
      "metadata": {
        "id": "IZ-iEr8_RJjE"
      },
      "source": [
        "# Introduction to pandas \n",
        "## Iván Andrés Trujillo Abella\n",
        "\n",
        "we can construc a series."
      ]
    },
    {
      "cell_type": "code",
      "metadata": {
        "id": "AKQFBkjERSib"
      },
      "source": [
        "import pandas as pd\n",
        "serie= pd.Series([1,2,3,4], name='col_one')"
      ],
      "execution_count": 1,
      "outputs": []
    },
    {
      "cell_type": "code",
      "metadata": {
        "colab": {
          "base_uri": "https://localhost:8080/"
        },
        "id": "qFr6U2FJR49L",
        "outputId": "e458743a-63b6-4860-c953-ef097ce3381c"
      },
      "source": [
        "# What else about int64 numpy?\n",
        "serie.values\n",
        "print(type(serie.values)) # what ist the connection of pandas and numpy.\n",
        "print(serie.dtypes)  "
      ],
      "execution_count": 2,
      "outputs": [
        {
          "output_type": "stream",
          "name": "stdout",
          "text": [
            "<class 'numpy.ndarray'>\n",
            "int64\n"
          ]
        }
      ]
    },
    {
      "cell_type": "markdown",
      "metadata": {
        "id": "_rQCKut1VsG3"
      },
      "source": [
        "We can put a index to a serie for instance:\n",
        "index = ['a','b','c']\n",
        "\n",
        "---\n",
        "\n"
      ]
    },
    {
      "cell_type": "code",
      "metadata": {
        "colab": {
          "base_uri": "https://localhost:8080/"
        },
        "id": "G5tlgXozV0ot",
        "outputId": "603c53aa-0a17-4948-b755-0357c4b6464d"
      },
      "source": [
        "data = [10,11,12]\n",
        "index = ['a','b','c']\n",
        "pd.Series(data, index=index, name='Colone')"
      ],
      "execution_count": 3,
      "outputs": [
        {
          "output_type": "execute_result",
          "data": {
            "text/plain": [
              "a    10\n",
              "b    11\n",
              "c    12\n",
              "Name: Colone, dtype: int64"
            ]
          },
          "metadata": {},
          "execution_count": 3
        }
      ]
    },
    {
      "cell_type": "markdown",
      "metadata": {
        "id": "38C4KufmWSDp"
      },
      "source": [
        "# Series and dictionaries\n",
        "we can create series from dictionaries, using keys as indeces.\n",
        "\n",
        "# Reset INDEX\n",
        "```python\n",
        "Serie.reset_index(drop=True)\n",
        "```\n",
        "thus we can reorder de index and not create an additional column.\n",
        "\n",
        "\n",
        "take in mind that index not are positions."
      ]
    },
    {
      "cell_type": "code",
      "metadata": {
        "colab": {
          "base_uri": "https://localhost:8080/"
        },
        "id": "X9PxafTCXMIQ",
        "outputId": "a26a7640-5b3d-458e-e7c0-9cb08ec7b23d"
      },
      "source": [
        "serie = pd.Series([100,200,300,400], index=[1,2,3,4])\n",
        "serie # Note that the position in python start by 0."
      ],
      "execution_count": 4,
      "outputs": [
        {
          "output_type": "execute_result",
          "data": {
            "text/plain": [
              "1    100\n",
              "2    200\n",
              "3    300\n",
              "4    400\n",
              "dtype: int64"
            ]
          },
          "metadata": {},
          "execution_count": 4
        }
      ]
    },
    {
      "cell_type": "markdown",
      "metadata": {
        "id": "di65AyUGemaW"
      },
      "source": [
        "## EXTRAC INFORMATION\n",
        "\n",
        "```python\n",
        "serie.get()\n",
        "```\n",
        "allow us get the value given de index.\n",
        "\n",
        "Extracting with index and positions"
      ]
    },
    {
      "cell_type": "code",
      "metadata": {
        "colab": {
          "base_uri": "https://localhost:8080/"
        },
        "id": "eTQDYCIxeZya",
        "outputId": "bad9b088-0f95-4ea4-bcc5-4d510e732890"
      },
      "source": [
        "print(serie.get(3))\n",
        "print(\"\\n\")\n",
        "print(serie.loc[1:2])  # Using index\n",
        "print(serie.iloc[1:2]) # Using position\n"
      ],
      "execution_count": 5,
      "outputs": [
        {
          "output_type": "stream",
          "name": "stdout",
          "text": [
            "300\n",
            "\n",
            "\n",
            "1    100\n",
            "2    200\n",
            "dtype: int64\n",
            "2    200\n",
            "dtype: int64\n"
          ]
        }
      ]
    },
    {
      "cell_type": "code",
      "metadata": {
        "colab": {
          "base_uri": "https://localhost:8080/"
        },
        "id": "zfJs2BnzgTy7",
        "outputId": "8de3f69d-3ea2-4fd9-8d40-0c749fbb699a"
      },
      "source": [
        "serie.index # returning index"
      ],
      "execution_count": 6,
      "outputs": [
        {
          "output_type": "execute_result",
          "data": {
            "text/plain": [
              "Int64Index([1, 2, 3, 4], dtype='int64')"
            ]
          },
          "metadata": {},
          "execution_count": 6
        }
      ]
    },
    {
      "cell_type": "code",
      "metadata": {
        "id": "6jgIMeSCg1Qu"
      },
      "source": [
        "# We need take in mind this."
      ],
      "execution_count": 7,
      "outputs": []
    },
    {
      "cell_type": "markdown",
      "metadata": {
        "id": "b9PRNehBi1jI"
      },
      "source": [
        "if we need loop over all column it is better uses \n",
        "serie.shape[0] instead of df.index."
      ]
    },
    {
      "cell_type": "markdown",
      "metadata": {
        "id": "WDnNtMdEjXbg"
      },
      "source": [
        "Sometimes it is useful, extract the data in a numpy arrange or a list. \n",
        "```python\n",
        "serie.values \n",
        "```\n",
        "extract to numpy and \n",
        "```python\n",
        "serie.to_list()\n",
        "```\n",
        "return the list"
      ]
    },
    {
      "cell_type": "code",
      "metadata": {
        "id": "2XDjBI1MjAk6"
      },
      "source": [],
      "execution_count": 7,
      "outputs": []
    },
    {
      "cell_type": "markdown",
      "metadata": {
        "id": "lnXk-rL3j3cB"
      },
      "source": [
        "# Copy?\n",
        "see for what it is useful:\n",
        "```python\n",
        "serie.copy()\n",
        "```"
      ]
    },
    {
      "cell_type": "markdown",
      "metadata": {
        "id": "prQGjCcelqTK"
      },
      "source": [
        "We can apply a serie of statistical methods in series:\n",
        "```python\n",
        "serie.min()\n",
        "serie.max()\n",
        "serie.mean()\n",
        "serie.std()\n",
        "```\n"
      ]
    },
    {
      "cell_type": "markdown",
      "metadata": {
        "id": "0i5ob-svou95"
      },
      "source": [
        "# Modify series:\n"
      ]
    },
    {
      "cell_type": "code",
      "metadata": {
        "colab": {
          "base_uri": "https://localhost:8080/"
        },
        "id": "WWrYsnhUpa_9",
        "outputId": "9a33b671-901d-402d-953e-a46e911d282d"
      },
      "source": [
        "# input data \n",
        "import numpy as np\n",
        "data = pd.Series(np.random.normal(0,1,100))   # Mean, standard deviation , size of arrange\n",
        "data.mean()\n",
        "data.std()\n"
      ],
      "execution_count": 8,
      "outputs": [
        {
          "output_type": "execute_result",
          "data": {
            "text/plain": [
              "1.0770279012452186"
            ]
          },
          "metadata": {},
          "execution_count": 8
        }
      ]
    },
    {
      "cell_type": "markdown",
      "metadata": {
        "id": "3btdBqnZqZVm"
      },
      "source": [
        "## Useful functions in series:\n",
        "\n",
        "*serie.sort_values()* have a parameter ascending whose inputs are boolean and change the bahavior of the data.\n",
        "\n",
        "*serie.sort_index()* this is very useful in some cases.\n"
      ]
    },
    {
      "cell_type": "markdown",
      "metadata": {
        "id": "-WZ3cY39peK8"
      },
      "source": [
        "# Change values in series\n"
      ]
    },
    {
      "cell_type": "code",
      "metadata": {
        "id": "YvH4DIkerRLE"
      },
      "source": [
        "dt = pd.Series([1,3,59,13], index=[10,11,12,13])\n",
        "df = dt.copy()\n",
        "df[12]=100 # note that here were are based in index.\n",
        "df[0:3] # Here parse the positions.\n",
        "df[0:4] = 100  # this could be weird.\n"
      ],
      "execution_count": 9,
      "outputs": []
    },
    {
      "cell_type": "markdown",
      "metadata": {
        "id": "PyBd7bJWuhYM"
      },
      "source": [
        "the weird beahavior, before exposed then created the concepts of iloc and loc."
      ]
    },
    {
      "cell_type": "markdown",
      "metadata": {
        "id": "Dk0GUTAVyGSP"
      },
      "source": [
        "## Function anotations:\n",
        "```\n",
        "def function(parameter : anotation) -> return value :\n",
        "pass\n",
        "```\n",
        "this dont have  meaning in built-in environment only when take third libraries.\n",
        "rememeber that parameters and annotations by defaul are optional."
      ]
    },
    {
      "cell_type": "code",
      "metadata": {
        "id": "3g1P-XJ8zQbd"
      },
      "source": [
        "def suma(a: 'Número' = 10 , b: 'Número 2' = 100) -> pd.Series:\n",
        "  c = a+b\n",
        "  return c\n",
        "  "
      ],
      "execution_count": 10,
      "outputs": []
    },
    {
      "cell_type": "code",
      "metadata": {
        "id": "Oo05awIK2xil"
      },
      "source": [
        "def lastFirst(serie: pd.Series)-> pd.Series:\n",
        "  first = serie.iloc[0]\n",
        "  last = serie.iloc[-1]\n",
        "  return pd.Series([first,last])"
      ],
      "execution_count": 11,
      "outputs": []
    },
    {
      "cell_type": "markdown",
      "metadata": {
        "id": "HEb-388y48jp"
      },
      "source": [
        "# Size attribute show us the size total of serie.\n",
        "this is better than uses shape[0]"
      ]
    },
    {
      "cell_type": "code",
      "metadata": {
        "colab": {
          "base_uri": "https://localhost:8080/"
        },
        "id": "-fe2Z6Eu3Lcw",
        "outputId": "adcbdfc0-75ca-4b70-8046-305858de4a60"
      },
      "source": [
        "serie = pd.Series(np.random.normal(0,1,100))\n",
        "serie.size"
      ],
      "execution_count": 12,
      "outputs": [
        {
          "output_type": "execute_result",
          "data": {
            "text/plain": [
              "100"
            ]
          },
          "metadata": {},
          "execution_count": 12
        }
      ]
    },
    {
      "cell_type": "code",
      "metadata": {
        "id": "RgwQbPM4cA9f"
      },
      "source": [
        "import pandas as pd\n",
        "age =  [10,11,12,34,12,12,41,33,21]\n",
        "weight=[70,44,88,100,92,78,12,19,22]\n",
        "dict = {'age':age, 'weigths':weight}\n",
        "data = pd.DataFrame(dict)"
      ],
      "execution_count": 13,
      "outputs": []
    },
    {
      "cell_type": "code",
      "metadata": {
        "id": "II_jGYL9czb9"
      },
      "source": [],
      "execution_count": 13,
      "outputs": []
    },
    {
      "cell_type": "markdown",
      "metadata": {
        "id": "b1JqH1y5h6qX"
      },
      "source": [
        "# Copy matters\n",
        "due if we not aisle the original from the subdata,then modifications in the parent dataframe reflect in the subdataframe."
      ]
    },
    {
      "cell_type": "markdown",
      "metadata": {
        "id": "rOe1XNniiJOQ"
      },
      "source": [
        "#important methods, head(), tail().\n",
        "*info(), describe(), unique(),\n",
        " value_counts()* given in order the most frequent to lesser frequent.\n",
        "\n",
        "*idxmax() , idxmin(), sum(), prod(), div()*\n",
        "\n",
        "sum(axis=1) sum the row total, axis=0 sum all column.\n",
        "\n",
        "*quantile()*\n",
        "*describe()*"
      ]
    },
    {
      "cell_type": "code",
      "metadata": {
        "colab": {
          "base_uri": "https://localhost:8080/"
        },
        "id": "lb6ci5PUj8xM",
        "outputId": "5e576e66-e1f5-41bb-8341-fb3ad1ec0aea"
      },
      "source": [
        "data['age'].unique().tolist()"
      ],
      "execution_count": 14,
      "outputs": [
        {
          "output_type": "execute_result",
          "data": {
            "text/plain": [
              "[10, 11, 12, 34, 41, 33, 21]"
            ]
          },
          "metadata": {},
          "execution_count": 14
        }
      ]
    },
    {
      "cell_type": "markdown",
      "metadata": {
        "id": "xAmmh2E0duX3"
      },
      "source": [
        "# to See\n",
        "to see values is better used .unique() to see diferences in names or the strategy of diferences in dictionaries."
      ]
    },
    {
      "cell_type": "markdown",
      "metadata": {
        "id": "2mH3lGkvf3mj"
      },
      "source": [
        "# Filtering data\n",
        "\n",
        "iloc integeter based location\n",
        "\n",
        "loc label-based location.\n",
        "\n",
        "### Hint:\n",
        "rember that the last position nevers is included in a slice.\n",
        "\n"
      ]
    },
    {
      "cell_type": "code",
      "metadata": {
        "id": "3VEdErGDi2Eg"
      },
      "source": [
        "# check the uses of Booleans to filtering data\n",
        "size = 100\n",
        "n = np.random.normal(0,1, size)\n",
        "letters = ['A','B','C', 'D']\n",
        "cat = [np.random.choice(letters, replace=True) for x in range(size)]\n",
        "data = {'numeric':n , 'catg':cat}"
      ],
      "execution_count": 15,
      "outputs": []
    },
    {
      "cell_type": "code",
      "metadata": {
        "colab": {
          "base_uri": "https://localhost:8080/",
          "height": 802
        },
        "id": "VGRzzPP3l_nj",
        "outputId": "6c6eb505-6a12-4f53-ddc4-76e8e0049678"
      },
      "source": [
        "data = pd.DataFrame(data)\n",
        "data[data['catg']== 'C']  # Using selector."
      ],
      "execution_count": 16,
      "outputs": [
        {
          "output_type": "execute_result",
          "data": {
            "text/plain": [
              "     numeric catg\n",
              "4   0.698391    C\n",
              "14 -1.376871    C\n",
              "19  0.042862    C\n",
              "22 -1.051562    C\n",
              "26  0.639121    C\n",
              "28 -0.830466    C\n",
              "30  0.379133    C\n",
              "31 -0.769126    C\n",
              "33 -1.901120    C\n",
              "35  0.795446    C\n",
              "43  0.583232    C\n",
              "45 -0.029610    C\n",
              "52 -1.315909    C\n",
              "54  0.991212    C\n",
              "56  0.664136    C\n",
              "59  2.298314    C\n",
              "60 -0.328297    C\n",
              "63  0.742552    C\n",
              "64  0.736468    C\n",
              "85  0.675953    C\n",
              "87  0.724663    C\n",
              "94 -0.637302    C\n",
              "95  0.413089    C\n",
              "96  1.462657    C"
            ],
            "text/html": [
              "\n",
              "  <div id=\"df-9f89f4d0-c63e-4d49-8733-fc3926c4fd48\">\n",
              "    <div class=\"colab-df-container\">\n",
              "      <div>\n",
              "<style scoped>\n",
              "    .dataframe tbody tr th:only-of-type {\n",
              "        vertical-align: middle;\n",
              "    }\n",
              "\n",
              "    .dataframe tbody tr th {\n",
              "        vertical-align: top;\n",
              "    }\n",
              "\n",
              "    .dataframe thead th {\n",
              "        text-align: right;\n",
              "    }\n",
              "</style>\n",
              "<table border=\"1\" class=\"dataframe\">\n",
              "  <thead>\n",
              "    <tr style=\"text-align: right;\">\n",
              "      <th></th>\n",
              "      <th>numeric</th>\n",
              "      <th>catg</th>\n",
              "    </tr>\n",
              "  </thead>\n",
              "  <tbody>\n",
              "    <tr>\n",
              "      <th>4</th>\n",
              "      <td>0.698391</td>\n",
              "      <td>C</td>\n",
              "    </tr>\n",
              "    <tr>\n",
              "      <th>14</th>\n",
              "      <td>-1.376871</td>\n",
              "      <td>C</td>\n",
              "    </tr>\n",
              "    <tr>\n",
              "      <th>19</th>\n",
              "      <td>0.042862</td>\n",
              "      <td>C</td>\n",
              "    </tr>\n",
              "    <tr>\n",
              "      <th>22</th>\n",
              "      <td>-1.051562</td>\n",
              "      <td>C</td>\n",
              "    </tr>\n",
              "    <tr>\n",
              "      <th>26</th>\n",
              "      <td>0.639121</td>\n",
              "      <td>C</td>\n",
              "    </tr>\n",
              "    <tr>\n",
              "      <th>28</th>\n",
              "      <td>-0.830466</td>\n",
              "      <td>C</td>\n",
              "    </tr>\n",
              "    <tr>\n",
              "      <th>30</th>\n",
              "      <td>0.379133</td>\n",
              "      <td>C</td>\n",
              "    </tr>\n",
              "    <tr>\n",
              "      <th>31</th>\n",
              "      <td>-0.769126</td>\n",
              "      <td>C</td>\n",
              "    </tr>\n",
              "    <tr>\n",
              "      <th>33</th>\n",
              "      <td>-1.901120</td>\n",
              "      <td>C</td>\n",
              "    </tr>\n",
              "    <tr>\n",
              "      <th>35</th>\n",
              "      <td>0.795446</td>\n",
              "      <td>C</td>\n",
              "    </tr>\n",
              "    <tr>\n",
              "      <th>43</th>\n",
              "      <td>0.583232</td>\n",
              "      <td>C</td>\n",
              "    </tr>\n",
              "    <tr>\n",
              "      <th>45</th>\n",
              "      <td>-0.029610</td>\n",
              "      <td>C</td>\n",
              "    </tr>\n",
              "    <tr>\n",
              "      <th>52</th>\n",
              "      <td>-1.315909</td>\n",
              "      <td>C</td>\n",
              "    </tr>\n",
              "    <tr>\n",
              "      <th>54</th>\n",
              "      <td>0.991212</td>\n",
              "      <td>C</td>\n",
              "    </tr>\n",
              "    <tr>\n",
              "      <th>56</th>\n",
              "      <td>0.664136</td>\n",
              "      <td>C</td>\n",
              "    </tr>\n",
              "    <tr>\n",
              "      <th>59</th>\n",
              "      <td>2.298314</td>\n",
              "      <td>C</td>\n",
              "    </tr>\n",
              "    <tr>\n",
              "      <th>60</th>\n",
              "      <td>-0.328297</td>\n",
              "      <td>C</td>\n",
              "    </tr>\n",
              "    <tr>\n",
              "      <th>63</th>\n",
              "      <td>0.742552</td>\n",
              "      <td>C</td>\n",
              "    </tr>\n",
              "    <tr>\n",
              "      <th>64</th>\n",
              "      <td>0.736468</td>\n",
              "      <td>C</td>\n",
              "    </tr>\n",
              "    <tr>\n",
              "      <th>85</th>\n",
              "      <td>0.675953</td>\n",
              "      <td>C</td>\n",
              "    </tr>\n",
              "    <tr>\n",
              "      <th>87</th>\n",
              "      <td>0.724663</td>\n",
              "      <td>C</td>\n",
              "    </tr>\n",
              "    <tr>\n",
              "      <th>94</th>\n",
              "      <td>-0.637302</td>\n",
              "      <td>C</td>\n",
              "    </tr>\n",
              "    <tr>\n",
              "      <th>95</th>\n",
              "      <td>0.413089</td>\n",
              "      <td>C</td>\n",
              "    </tr>\n",
              "    <tr>\n",
              "      <th>96</th>\n",
              "      <td>1.462657</td>\n",
              "      <td>C</td>\n",
              "    </tr>\n",
              "  </tbody>\n",
              "</table>\n",
              "</div>\n",
              "      <button class=\"colab-df-convert\" onclick=\"convertToInteractive('df-9f89f4d0-c63e-4d49-8733-fc3926c4fd48')\"\n",
              "              title=\"Convert this dataframe to an interactive table.\"\n",
              "              style=\"display:none;\">\n",
              "        \n",
              "  <svg xmlns=\"http://www.w3.org/2000/svg\" height=\"24px\"viewBox=\"0 0 24 24\"\n",
              "       width=\"24px\">\n",
              "    <path d=\"M0 0h24v24H0V0z\" fill=\"none\"/>\n",
              "    <path d=\"M18.56 5.44l.94 2.06.94-2.06 2.06-.94-2.06-.94-.94-2.06-.94 2.06-2.06.94zm-11 1L8.5 8.5l.94-2.06 2.06-.94-2.06-.94L8.5 2.5l-.94 2.06-2.06.94zm10 10l.94 2.06.94-2.06 2.06-.94-2.06-.94-.94-2.06-.94 2.06-2.06.94z\"/><path d=\"M17.41 7.96l-1.37-1.37c-.4-.4-.92-.59-1.43-.59-.52 0-1.04.2-1.43.59L10.3 9.45l-7.72 7.72c-.78.78-.78 2.05 0 2.83L4 21.41c.39.39.9.59 1.41.59.51 0 1.02-.2 1.41-.59l7.78-7.78 2.81-2.81c.8-.78.8-2.07 0-2.86zM5.41 20L4 18.59l7.72-7.72 1.47 1.35L5.41 20z\"/>\n",
              "  </svg>\n",
              "      </button>\n",
              "      \n",
              "  <style>\n",
              "    .colab-df-container {\n",
              "      display:flex;\n",
              "      flex-wrap:wrap;\n",
              "      gap: 12px;\n",
              "    }\n",
              "\n",
              "    .colab-df-convert {\n",
              "      background-color: #E8F0FE;\n",
              "      border: none;\n",
              "      border-radius: 50%;\n",
              "      cursor: pointer;\n",
              "      display: none;\n",
              "      fill: #1967D2;\n",
              "      height: 32px;\n",
              "      padding: 0 0 0 0;\n",
              "      width: 32px;\n",
              "    }\n",
              "\n",
              "    .colab-df-convert:hover {\n",
              "      background-color: #E2EBFA;\n",
              "      box-shadow: 0px 1px 2px rgba(60, 64, 67, 0.3), 0px 1px 3px 1px rgba(60, 64, 67, 0.15);\n",
              "      fill: #174EA6;\n",
              "    }\n",
              "\n",
              "    [theme=dark] .colab-df-convert {\n",
              "      background-color: #3B4455;\n",
              "      fill: #D2E3FC;\n",
              "    }\n",
              "\n",
              "    [theme=dark] .colab-df-convert:hover {\n",
              "      background-color: #434B5C;\n",
              "      box-shadow: 0px 1px 3px 1px rgba(0, 0, 0, 0.15);\n",
              "      filter: drop-shadow(0px 1px 2px rgba(0, 0, 0, 0.3));\n",
              "      fill: #FFFFFF;\n",
              "    }\n",
              "  </style>\n",
              "\n",
              "      <script>\n",
              "        const buttonEl =\n",
              "          document.querySelector('#df-9f89f4d0-c63e-4d49-8733-fc3926c4fd48 button.colab-df-convert');\n",
              "        buttonEl.style.display =\n",
              "          google.colab.kernel.accessAllowed ? 'block' : 'none';\n",
              "\n",
              "        async function convertToInteractive(key) {\n",
              "          const element = document.querySelector('#df-9f89f4d0-c63e-4d49-8733-fc3926c4fd48');\n",
              "          const dataTable =\n",
              "            await google.colab.kernel.invokeFunction('convertToInteractive',\n",
              "                                                     [key], {});\n",
              "          if (!dataTable) return;\n",
              "\n",
              "          const docLinkHtml = 'Like what you see? Visit the ' +\n",
              "            '<a target=\"_blank\" href=https://colab.research.google.com/notebooks/data_table.ipynb>data table notebook</a>'\n",
              "            + ' to learn more about interactive tables.';\n",
              "          element.innerHTML = '';\n",
              "          dataTable['output_type'] = 'display_data';\n",
              "          await google.colab.output.renderOutput(dataTable, element);\n",
              "          const docLink = document.createElement('div');\n",
              "          docLink.innerHTML = docLinkHtml;\n",
              "          element.appendChild(docLink);\n",
              "        }\n",
              "      </script>\n",
              "    </div>\n",
              "  </div>\n",
              "  "
            ]
          },
          "metadata": {},
          "execution_count": 16
        }
      ]
    },
    {
      "cell_type": "markdown",
      "metadata": {
        "id": "Kg2ZoEeksrM6"
      },
      "source": [
        "# Boolean operations (bit operators)\n",
        "& ampersand and \n",
        "\n",
        "| pipe or \n",
        "\n",
        "you need take in mind always the paranthesis to make mistakes.\n",
        "\n",
        "<=\n",
        ">=\n",
        "\n",
        "## isin function\n"
      ]
    },
    {
      "cell_type": "code",
      "metadata": {
        "colab": {
          "base_uri": "https://localhost:8080/",
          "height": 1000
        },
        "id": "5j6yqhAJs4rq",
        "outputId": "a784c67d-316b-45fd-adc8-a04f7dc407c4"
      },
      "source": [
        "data[data['catg'].isin(['A','B'])]"
      ],
      "execution_count": 17,
      "outputs": [
        {
          "output_type": "execute_result",
          "data": {
            "text/plain": [
              "     numeric catg\n",
              "0  -0.376373    B\n",
              "1  -0.699874    B\n",
              "3   2.554388    A\n",
              "6  -1.135341    A\n",
              "8  -0.837034    B\n",
              "9   0.626801    A\n",
              "10 -0.278121    B\n",
              "11  0.005531    A\n",
              "12  0.510609    B\n",
              "13 -0.337592    A\n",
              "16  1.065754    A\n",
              "17  0.094208    A\n",
              "18 -0.218555    B\n",
              "21  0.463313    B\n",
              "23  0.504934    A\n",
              "24  1.430638    B\n",
              "25 -0.800627    A\n",
              "27  1.794165    B\n",
              "29  0.502820    B\n",
              "32  1.891871    A\n",
              "34  1.176252    A\n",
              "36  0.589768    A\n",
              "37 -0.039688    B\n",
              "38 -0.130710    B\n",
              "40 -1.115419    A\n",
              "41 -1.706372    A\n",
              "42 -0.982359    A\n",
              "44 -1.264805    A\n",
              "46  0.971694    B\n",
              "47 -0.377170    B\n",
              "48 -0.733475    B\n",
              "49 -0.244827    B\n",
              "50  0.074634    B\n",
              "53  0.937365    B\n",
              "55  1.300509    B\n",
              "57 -0.876590    B\n",
              "62  0.895300    A\n",
              "65 -0.320859    B\n",
              "69  0.859494    B\n",
              "74  1.181539    A\n",
              "75  1.277411    B\n",
              "76 -1.172004    A\n",
              "77  0.324486    A\n",
              "78  0.269928    B\n",
              "79 -0.434477    A\n",
              "84 -0.432346    B\n",
              "89  0.771432    A\n",
              "90 -2.201919    B\n",
              "91 -0.076316    B\n",
              "92 -1.300469    A\n",
              "93 -0.844270    B\n",
              "99  0.387544    A"
            ],
            "text/html": [
              "\n",
              "  <div id=\"df-1e1fff7d-82b4-4206-97d2-17829cb565e3\">\n",
              "    <div class=\"colab-df-container\">\n",
              "      <div>\n",
              "<style scoped>\n",
              "    .dataframe tbody tr th:only-of-type {\n",
              "        vertical-align: middle;\n",
              "    }\n",
              "\n",
              "    .dataframe tbody tr th {\n",
              "        vertical-align: top;\n",
              "    }\n",
              "\n",
              "    .dataframe thead th {\n",
              "        text-align: right;\n",
              "    }\n",
              "</style>\n",
              "<table border=\"1\" class=\"dataframe\">\n",
              "  <thead>\n",
              "    <tr style=\"text-align: right;\">\n",
              "      <th></th>\n",
              "      <th>numeric</th>\n",
              "      <th>catg</th>\n",
              "    </tr>\n",
              "  </thead>\n",
              "  <tbody>\n",
              "    <tr>\n",
              "      <th>0</th>\n",
              "      <td>-0.376373</td>\n",
              "      <td>B</td>\n",
              "    </tr>\n",
              "    <tr>\n",
              "      <th>1</th>\n",
              "      <td>-0.699874</td>\n",
              "      <td>B</td>\n",
              "    </tr>\n",
              "    <tr>\n",
              "      <th>3</th>\n",
              "      <td>2.554388</td>\n",
              "      <td>A</td>\n",
              "    </tr>\n",
              "    <tr>\n",
              "      <th>6</th>\n",
              "      <td>-1.135341</td>\n",
              "      <td>A</td>\n",
              "    </tr>\n",
              "    <tr>\n",
              "      <th>8</th>\n",
              "      <td>-0.837034</td>\n",
              "      <td>B</td>\n",
              "    </tr>\n",
              "    <tr>\n",
              "      <th>9</th>\n",
              "      <td>0.626801</td>\n",
              "      <td>A</td>\n",
              "    </tr>\n",
              "    <tr>\n",
              "      <th>10</th>\n",
              "      <td>-0.278121</td>\n",
              "      <td>B</td>\n",
              "    </tr>\n",
              "    <tr>\n",
              "      <th>11</th>\n",
              "      <td>0.005531</td>\n",
              "      <td>A</td>\n",
              "    </tr>\n",
              "    <tr>\n",
              "      <th>12</th>\n",
              "      <td>0.510609</td>\n",
              "      <td>B</td>\n",
              "    </tr>\n",
              "    <tr>\n",
              "      <th>13</th>\n",
              "      <td>-0.337592</td>\n",
              "      <td>A</td>\n",
              "    </tr>\n",
              "    <tr>\n",
              "      <th>16</th>\n",
              "      <td>1.065754</td>\n",
              "      <td>A</td>\n",
              "    </tr>\n",
              "    <tr>\n",
              "      <th>17</th>\n",
              "      <td>0.094208</td>\n",
              "      <td>A</td>\n",
              "    </tr>\n",
              "    <tr>\n",
              "      <th>18</th>\n",
              "      <td>-0.218555</td>\n",
              "      <td>B</td>\n",
              "    </tr>\n",
              "    <tr>\n",
              "      <th>21</th>\n",
              "      <td>0.463313</td>\n",
              "      <td>B</td>\n",
              "    </tr>\n",
              "    <tr>\n",
              "      <th>23</th>\n",
              "      <td>0.504934</td>\n",
              "      <td>A</td>\n",
              "    </tr>\n",
              "    <tr>\n",
              "      <th>24</th>\n",
              "      <td>1.430638</td>\n",
              "      <td>B</td>\n",
              "    </tr>\n",
              "    <tr>\n",
              "      <th>25</th>\n",
              "      <td>-0.800627</td>\n",
              "      <td>A</td>\n",
              "    </tr>\n",
              "    <tr>\n",
              "      <th>27</th>\n",
              "      <td>1.794165</td>\n",
              "      <td>B</td>\n",
              "    </tr>\n",
              "    <tr>\n",
              "      <th>29</th>\n",
              "      <td>0.502820</td>\n",
              "      <td>B</td>\n",
              "    </tr>\n",
              "    <tr>\n",
              "      <th>32</th>\n",
              "      <td>1.891871</td>\n",
              "      <td>A</td>\n",
              "    </tr>\n",
              "    <tr>\n",
              "      <th>34</th>\n",
              "      <td>1.176252</td>\n",
              "      <td>A</td>\n",
              "    </tr>\n",
              "    <tr>\n",
              "      <th>36</th>\n",
              "      <td>0.589768</td>\n",
              "      <td>A</td>\n",
              "    </tr>\n",
              "    <tr>\n",
              "      <th>37</th>\n",
              "      <td>-0.039688</td>\n",
              "      <td>B</td>\n",
              "    </tr>\n",
              "    <tr>\n",
              "      <th>38</th>\n",
              "      <td>-0.130710</td>\n",
              "      <td>B</td>\n",
              "    </tr>\n",
              "    <tr>\n",
              "      <th>40</th>\n",
              "      <td>-1.115419</td>\n",
              "      <td>A</td>\n",
              "    </tr>\n",
              "    <tr>\n",
              "      <th>41</th>\n",
              "      <td>-1.706372</td>\n",
              "      <td>A</td>\n",
              "    </tr>\n",
              "    <tr>\n",
              "      <th>42</th>\n",
              "      <td>-0.982359</td>\n",
              "      <td>A</td>\n",
              "    </tr>\n",
              "    <tr>\n",
              "      <th>44</th>\n",
              "      <td>-1.264805</td>\n",
              "      <td>A</td>\n",
              "    </tr>\n",
              "    <tr>\n",
              "      <th>46</th>\n",
              "      <td>0.971694</td>\n",
              "      <td>B</td>\n",
              "    </tr>\n",
              "    <tr>\n",
              "      <th>47</th>\n",
              "      <td>-0.377170</td>\n",
              "      <td>B</td>\n",
              "    </tr>\n",
              "    <tr>\n",
              "      <th>48</th>\n",
              "      <td>-0.733475</td>\n",
              "      <td>B</td>\n",
              "    </tr>\n",
              "    <tr>\n",
              "      <th>49</th>\n",
              "      <td>-0.244827</td>\n",
              "      <td>B</td>\n",
              "    </tr>\n",
              "    <tr>\n",
              "      <th>50</th>\n",
              "      <td>0.074634</td>\n",
              "      <td>B</td>\n",
              "    </tr>\n",
              "    <tr>\n",
              "      <th>53</th>\n",
              "      <td>0.937365</td>\n",
              "      <td>B</td>\n",
              "    </tr>\n",
              "    <tr>\n",
              "      <th>55</th>\n",
              "      <td>1.300509</td>\n",
              "      <td>B</td>\n",
              "    </tr>\n",
              "    <tr>\n",
              "      <th>57</th>\n",
              "      <td>-0.876590</td>\n",
              "      <td>B</td>\n",
              "    </tr>\n",
              "    <tr>\n",
              "      <th>62</th>\n",
              "      <td>0.895300</td>\n",
              "      <td>A</td>\n",
              "    </tr>\n",
              "    <tr>\n",
              "      <th>65</th>\n",
              "      <td>-0.320859</td>\n",
              "      <td>B</td>\n",
              "    </tr>\n",
              "    <tr>\n",
              "      <th>69</th>\n",
              "      <td>0.859494</td>\n",
              "      <td>B</td>\n",
              "    </tr>\n",
              "    <tr>\n",
              "      <th>74</th>\n",
              "      <td>1.181539</td>\n",
              "      <td>A</td>\n",
              "    </tr>\n",
              "    <tr>\n",
              "      <th>75</th>\n",
              "      <td>1.277411</td>\n",
              "      <td>B</td>\n",
              "    </tr>\n",
              "    <tr>\n",
              "      <th>76</th>\n",
              "      <td>-1.172004</td>\n",
              "      <td>A</td>\n",
              "    </tr>\n",
              "    <tr>\n",
              "      <th>77</th>\n",
              "      <td>0.324486</td>\n",
              "      <td>A</td>\n",
              "    </tr>\n",
              "    <tr>\n",
              "      <th>78</th>\n",
              "      <td>0.269928</td>\n",
              "      <td>B</td>\n",
              "    </tr>\n",
              "    <tr>\n",
              "      <th>79</th>\n",
              "      <td>-0.434477</td>\n",
              "      <td>A</td>\n",
              "    </tr>\n",
              "    <tr>\n",
              "      <th>84</th>\n",
              "      <td>-0.432346</td>\n",
              "      <td>B</td>\n",
              "    </tr>\n",
              "    <tr>\n",
              "      <th>89</th>\n",
              "      <td>0.771432</td>\n",
              "      <td>A</td>\n",
              "    </tr>\n",
              "    <tr>\n",
              "      <th>90</th>\n",
              "      <td>-2.201919</td>\n",
              "      <td>B</td>\n",
              "    </tr>\n",
              "    <tr>\n",
              "      <th>91</th>\n",
              "      <td>-0.076316</td>\n",
              "      <td>B</td>\n",
              "    </tr>\n",
              "    <tr>\n",
              "      <th>92</th>\n",
              "      <td>-1.300469</td>\n",
              "      <td>A</td>\n",
              "    </tr>\n",
              "    <tr>\n",
              "      <th>93</th>\n",
              "      <td>-0.844270</td>\n",
              "      <td>B</td>\n",
              "    </tr>\n",
              "    <tr>\n",
              "      <th>99</th>\n",
              "      <td>0.387544</td>\n",
              "      <td>A</td>\n",
              "    </tr>\n",
              "  </tbody>\n",
              "</table>\n",
              "</div>\n",
              "      <button class=\"colab-df-convert\" onclick=\"convertToInteractive('df-1e1fff7d-82b4-4206-97d2-17829cb565e3')\"\n",
              "              title=\"Convert this dataframe to an interactive table.\"\n",
              "              style=\"display:none;\">\n",
              "        \n",
              "  <svg xmlns=\"http://www.w3.org/2000/svg\" height=\"24px\"viewBox=\"0 0 24 24\"\n",
              "       width=\"24px\">\n",
              "    <path d=\"M0 0h24v24H0V0z\" fill=\"none\"/>\n",
              "    <path d=\"M18.56 5.44l.94 2.06.94-2.06 2.06-.94-2.06-.94-.94-2.06-.94 2.06-2.06.94zm-11 1L8.5 8.5l.94-2.06 2.06-.94-2.06-.94L8.5 2.5l-.94 2.06-2.06.94zm10 10l.94 2.06.94-2.06 2.06-.94-2.06-.94-.94-2.06-.94 2.06-2.06.94z\"/><path d=\"M17.41 7.96l-1.37-1.37c-.4-.4-.92-.59-1.43-.59-.52 0-1.04.2-1.43.59L10.3 9.45l-7.72 7.72c-.78.78-.78 2.05 0 2.83L4 21.41c.39.39.9.59 1.41.59.51 0 1.02-.2 1.41-.59l7.78-7.78 2.81-2.81c.8-.78.8-2.07 0-2.86zM5.41 20L4 18.59l7.72-7.72 1.47 1.35L5.41 20z\"/>\n",
              "  </svg>\n",
              "      </button>\n",
              "      \n",
              "  <style>\n",
              "    .colab-df-container {\n",
              "      display:flex;\n",
              "      flex-wrap:wrap;\n",
              "      gap: 12px;\n",
              "    }\n",
              "\n",
              "    .colab-df-convert {\n",
              "      background-color: #E8F0FE;\n",
              "      border: none;\n",
              "      border-radius: 50%;\n",
              "      cursor: pointer;\n",
              "      display: none;\n",
              "      fill: #1967D2;\n",
              "      height: 32px;\n",
              "      padding: 0 0 0 0;\n",
              "      width: 32px;\n",
              "    }\n",
              "\n",
              "    .colab-df-convert:hover {\n",
              "      background-color: #E2EBFA;\n",
              "      box-shadow: 0px 1px 2px rgba(60, 64, 67, 0.3), 0px 1px 3px 1px rgba(60, 64, 67, 0.15);\n",
              "      fill: #174EA6;\n",
              "    }\n",
              "\n",
              "    [theme=dark] .colab-df-convert {\n",
              "      background-color: #3B4455;\n",
              "      fill: #D2E3FC;\n",
              "    }\n",
              "\n",
              "    [theme=dark] .colab-df-convert:hover {\n",
              "      background-color: #434B5C;\n",
              "      box-shadow: 0px 1px 3px 1px rgba(0, 0, 0, 0.15);\n",
              "      filter: drop-shadow(0px 1px 2px rgba(0, 0, 0, 0.3));\n",
              "      fill: #FFFFFF;\n",
              "    }\n",
              "  </style>\n",
              "\n",
              "      <script>\n",
              "        const buttonEl =\n",
              "          document.querySelector('#df-1e1fff7d-82b4-4206-97d2-17829cb565e3 button.colab-df-convert');\n",
              "        buttonEl.style.display =\n",
              "          google.colab.kernel.accessAllowed ? 'block' : 'none';\n",
              "\n",
              "        async function convertToInteractive(key) {\n",
              "          const element = document.querySelector('#df-1e1fff7d-82b4-4206-97d2-17829cb565e3');\n",
              "          const dataTable =\n",
              "            await google.colab.kernel.invokeFunction('convertToInteractive',\n",
              "                                                     [key], {});\n",
              "          if (!dataTable) return;\n",
              "\n",
              "          const docLinkHtml = 'Like what you see? Visit the ' +\n",
              "            '<a target=\"_blank\" href=https://colab.research.google.com/notebooks/data_table.ipynb>data table notebook</a>'\n",
              "            + ' to learn more about interactive tables.';\n",
              "          element.innerHTML = '';\n",
              "          dataTable['output_type'] = 'display_data';\n",
              "          await google.colab.output.renderOutput(dataTable, element);\n",
              "          const docLink = document.createElement('div');\n",
              "          docLink.innerHTML = docLinkHtml;\n",
              "          element.appendChild(docLink);\n",
              "        }\n",
              "      </script>\n",
              "    </div>\n",
              "  </div>\n",
              "  "
            ]
          },
          "metadata": {},
          "execution_count": 17
        }
      ]
    },
    {
      "cell_type": "code",
      "metadata": {
        "colab": {
          "base_uri": "https://localhost:8080/",
          "height": 35
        },
        "id": "DIXm2xWswMjO",
        "outputId": "34c5e2c4-c839-4a65-89ea-3588fc913a3c"
      },
      "source": [
        "data['catg'].iloc[2]"
      ],
      "execution_count": 18,
      "outputs": [
        {
          "output_type": "execute_result",
          "data": {
            "text/plain": [
              "'D'"
            ],
            "application/vnd.google.colaboratory.intrinsic+json": {
              "type": "string"
            }
          },
          "metadata": {},
          "execution_count": 18
        }
      ]
    },
    {
      "cell_type": "markdown",
      "metadata": {
        "id": "dQTfc3W6zZ-8"
      },
      "source": [
        "## Not a Number ( Missing values)\n",
        "\n",
        "numpy.NaN\n",
        "\n",
        "pandas.NaT ( Not a time)\n",
        "\n",
        "None missing for no numerical and not time\n"
      ]
    },
    {
      "cell_type": "code",
      "metadata": {
        "id": "rA9OUF0N0E_H"
      },
      "source": [
        "# A dataframe with its respective nan or  missing values\n",
        "df = pd.DataFrame({'var1':[10,np.NaN, 30 ], 'var2':['10/02/2010','10/04/2012',pd.NaT], 'var3':[None, 'A', 'B']})"
      ],
      "execution_count": 19,
      "outputs": []
    },
    {
      "cell_type": "code",
      "metadata": {
        "colab": {
          "base_uri": "https://localhost:8080/",
          "height": 143
        },
        "id": "YyZRsCn10NqQ",
        "outputId": "3782b2ad-9e0e-41e8-f1bb-c4e7c9fdc24d"
      },
      "source": [
        "df"
      ],
      "execution_count": 20,
      "outputs": [
        {
          "output_type": "execute_result",
          "data": {
            "text/plain": [
              "   var1        var2  var3\n",
              "0  10.0  10/02/2010  None\n",
              "1   NaN  10/04/2012     A\n",
              "2  30.0         NaT     B"
            ],
            "text/html": [
              "\n",
              "  <div id=\"df-421684a8-b50d-45f6-9b28-93e95c0e42e8\">\n",
              "    <div class=\"colab-df-container\">\n",
              "      <div>\n",
              "<style scoped>\n",
              "    .dataframe tbody tr th:only-of-type {\n",
              "        vertical-align: middle;\n",
              "    }\n",
              "\n",
              "    .dataframe tbody tr th {\n",
              "        vertical-align: top;\n",
              "    }\n",
              "\n",
              "    .dataframe thead th {\n",
              "        text-align: right;\n",
              "    }\n",
              "</style>\n",
              "<table border=\"1\" class=\"dataframe\">\n",
              "  <thead>\n",
              "    <tr style=\"text-align: right;\">\n",
              "      <th></th>\n",
              "      <th>var1</th>\n",
              "      <th>var2</th>\n",
              "      <th>var3</th>\n",
              "    </tr>\n",
              "  </thead>\n",
              "  <tbody>\n",
              "    <tr>\n",
              "      <th>0</th>\n",
              "      <td>10.0</td>\n",
              "      <td>10/02/2010</td>\n",
              "      <td>None</td>\n",
              "    </tr>\n",
              "    <tr>\n",
              "      <th>1</th>\n",
              "      <td>NaN</td>\n",
              "      <td>10/04/2012</td>\n",
              "      <td>A</td>\n",
              "    </tr>\n",
              "    <tr>\n",
              "      <th>2</th>\n",
              "      <td>30.0</td>\n",
              "      <td>NaT</td>\n",
              "      <td>B</td>\n",
              "    </tr>\n",
              "  </tbody>\n",
              "</table>\n",
              "</div>\n",
              "      <button class=\"colab-df-convert\" onclick=\"convertToInteractive('df-421684a8-b50d-45f6-9b28-93e95c0e42e8')\"\n",
              "              title=\"Convert this dataframe to an interactive table.\"\n",
              "              style=\"display:none;\">\n",
              "        \n",
              "  <svg xmlns=\"http://www.w3.org/2000/svg\" height=\"24px\"viewBox=\"0 0 24 24\"\n",
              "       width=\"24px\">\n",
              "    <path d=\"M0 0h24v24H0V0z\" fill=\"none\"/>\n",
              "    <path d=\"M18.56 5.44l.94 2.06.94-2.06 2.06-.94-2.06-.94-.94-2.06-.94 2.06-2.06.94zm-11 1L8.5 8.5l.94-2.06 2.06-.94-2.06-.94L8.5 2.5l-.94 2.06-2.06.94zm10 10l.94 2.06.94-2.06 2.06-.94-2.06-.94-.94-2.06-.94 2.06-2.06.94z\"/><path d=\"M17.41 7.96l-1.37-1.37c-.4-.4-.92-.59-1.43-.59-.52 0-1.04.2-1.43.59L10.3 9.45l-7.72 7.72c-.78.78-.78 2.05 0 2.83L4 21.41c.39.39.9.59 1.41.59.51 0 1.02-.2 1.41-.59l7.78-7.78 2.81-2.81c.8-.78.8-2.07 0-2.86zM5.41 20L4 18.59l7.72-7.72 1.47 1.35L5.41 20z\"/>\n",
              "  </svg>\n",
              "      </button>\n",
              "      \n",
              "  <style>\n",
              "    .colab-df-container {\n",
              "      display:flex;\n",
              "      flex-wrap:wrap;\n",
              "      gap: 12px;\n",
              "    }\n",
              "\n",
              "    .colab-df-convert {\n",
              "      background-color: #E8F0FE;\n",
              "      border: none;\n",
              "      border-radius: 50%;\n",
              "      cursor: pointer;\n",
              "      display: none;\n",
              "      fill: #1967D2;\n",
              "      height: 32px;\n",
              "      padding: 0 0 0 0;\n",
              "      width: 32px;\n",
              "    }\n",
              "\n",
              "    .colab-df-convert:hover {\n",
              "      background-color: #E2EBFA;\n",
              "      box-shadow: 0px 1px 2px rgba(60, 64, 67, 0.3), 0px 1px 3px 1px rgba(60, 64, 67, 0.15);\n",
              "      fill: #174EA6;\n",
              "    }\n",
              "\n",
              "    [theme=dark] .colab-df-convert {\n",
              "      background-color: #3B4455;\n",
              "      fill: #D2E3FC;\n",
              "    }\n",
              "\n",
              "    [theme=dark] .colab-df-convert:hover {\n",
              "      background-color: #434B5C;\n",
              "      box-shadow: 0px 1px 3px 1px rgba(0, 0, 0, 0.15);\n",
              "      filter: drop-shadow(0px 1px 2px rgba(0, 0, 0, 0.3));\n",
              "      fill: #FFFFFF;\n",
              "    }\n",
              "  </style>\n",
              "\n",
              "      <script>\n",
              "        const buttonEl =\n",
              "          document.querySelector('#df-421684a8-b50d-45f6-9b28-93e95c0e42e8 button.colab-df-convert');\n",
              "        buttonEl.style.display =\n",
              "          google.colab.kernel.accessAllowed ? 'block' : 'none';\n",
              "\n",
              "        async function convertToInteractive(key) {\n",
              "          const element = document.querySelector('#df-421684a8-b50d-45f6-9b28-93e95c0e42e8');\n",
              "          const dataTable =\n",
              "            await google.colab.kernel.invokeFunction('convertToInteractive',\n",
              "                                                     [key], {});\n",
              "          if (!dataTable) return;\n",
              "\n",
              "          const docLinkHtml = 'Like what you see? Visit the ' +\n",
              "            '<a target=\"_blank\" href=https://colab.research.google.com/notebooks/data_table.ipynb>data table notebook</a>'\n",
              "            + ' to learn more about interactive tables.';\n",
              "          element.innerHTML = '';\n",
              "          dataTable['output_type'] = 'display_data';\n",
              "          await google.colab.output.renderOutput(dataTable, element);\n",
              "          const docLink = document.createElement('div');\n",
              "          docLink.innerHTML = docLinkHtml;\n",
              "          element.appendChild(docLink);\n",
              "        }\n",
              "      </script>\n",
              "    </div>\n",
              "  </div>\n",
              "  "
            ]
          },
          "metadata": {},
          "execution_count": 20
        }
      ]
    },
    {
      "cell_type": "markdown",
      "metadata": {
        "id": "6BgtE-Bc048N"
      },
      "source": [
        " # isna()\n",
        " It is useful to check missing value data.\n",
        "\n",
        " # notna()\n",
        "it is important to see what are not nulls."
      ]
    },
    {
      "cell_type": "code",
      "metadata": {
        "colab": {
          "base_uri": "https://localhost:8080/",
          "height": 213
        },
        "id": "6t5d2_R_1Jjj",
        "outputId": "c6b2292d-7637-4984-e73f-19d6ae88ec6b"
      },
      "source": [
        "display(df.isna())\n",
        "\n",
        "print(df.isna().sum())\n"
      ],
      "execution_count": 21,
      "outputs": [
        {
          "output_type": "display_data",
          "data": {
            "text/plain": [
              "    var1   var2   var3\n",
              "0  False  False   True\n",
              "1   True  False  False\n",
              "2  False   True  False"
            ],
            "text/html": [
              "\n",
              "  <div id=\"df-165e73c7-015c-4fbe-9b50-606030a38fa7\">\n",
              "    <div class=\"colab-df-container\">\n",
              "      <div>\n",
              "<style scoped>\n",
              "    .dataframe tbody tr th:only-of-type {\n",
              "        vertical-align: middle;\n",
              "    }\n",
              "\n",
              "    .dataframe tbody tr th {\n",
              "        vertical-align: top;\n",
              "    }\n",
              "\n",
              "    .dataframe thead th {\n",
              "        text-align: right;\n",
              "    }\n",
              "</style>\n",
              "<table border=\"1\" class=\"dataframe\">\n",
              "  <thead>\n",
              "    <tr style=\"text-align: right;\">\n",
              "      <th></th>\n",
              "      <th>var1</th>\n",
              "      <th>var2</th>\n",
              "      <th>var3</th>\n",
              "    </tr>\n",
              "  </thead>\n",
              "  <tbody>\n",
              "    <tr>\n",
              "      <th>0</th>\n",
              "      <td>False</td>\n",
              "      <td>False</td>\n",
              "      <td>True</td>\n",
              "    </tr>\n",
              "    <tr>\n",
              "      <th>1</th>\n",
              "      <td>True</td>\n",
              "      <td>False</td>\n",
              "      <td>False</td>\n",
              "    </tr>\n",
              "    <tr>\n",
              "      <th>2</th>\n",
              "      <td>False</td>\n",
              "      <td>True</td>\n",
              "      <td>False</td>\n",
              "    </tr>\n",
              "  </tbody>\n",
              "</table>\n",
              "</div>\n",
              "      <button class=\"colab-df-convert\" onclick=\"convertToInteractive('df-165e73c7-015c-4fbe-9b50-606030a38fa7')\"\n",
              "              title=\"Convert this dataframe to an interactive table.\"\n",
              "              style=\"display:none;\">\n",
              "        \n",
              "  <svg xmlns=\"http://www.w3.org/2000/svg\" height=\"24px\"viewBox=\"0 0 24 24\"\n",
              "       width=\"24px\">\n",
              "    <path d=\"M0 0h24v24H0V0z\" fill=\"none\"/>\n",
              "    <path d=\"M18.56 5.44l.94 2.06.94-2.06 2.06-.94-2.06-.94-.94-2.06-.94 2.06-2.06.94zm-11 1L8.5 8.5l.94-2.06 2.06-.94-2.06-.94L8.5 2.5l-.94 2.06-2.06.94zm10 10l.94 2.06.94-2.06 2.06-.94-2.06-.94-.94-2.06-.94 2.06-2.06.94z\"/><path d=\"M17.41 7.96l-1.37-1.37c-.4-.4-.92-.59-1.43-.59-.52 0-1.04.2-1.43.59L10.3 9.45l-7.72 7.72c-.78.78-.78 2.05 0 2.83L4 21.41c.39.39.9.59 1.41.59.51 0 1.02-.2 1.41-.59l7.78-7.78 2.81-2.81c.8-.78.8-2.07 0-2.86zM5.41 20L4 18.59l7.72-7.72 1.47 1.35L5.41 20z\"/>\n",
              "  </svg>\n",
              "      </button>\n",
              "      \n",
              "  <style>\n",
              "    .colab-df-container {\n",
              "      display:flex;\n",
              "      flex-wrap:wrap;\n",
              "      gap: 12px;\n",
              "    }\n",
              "\n",
              "    .colab-df-convert {\n",
              "      background-color: #E8F0FE;\n",
              "      border: none;\n",
              "      border-radius: 50%;\n",
              "      cursor: pointer;\n",
              "      display: none;\n",
              "      fill: #1967D2;\n",
              "      height: 32px;\n",
              "      padding: 0 0 0 0;\n",
              "      width: 32px;\n",
              "    }\n",
              "\n",
              "    .colab-df-convert:hover {\n",
              "      background-color: #E2EBFA;\n",
              "      box-shadow: 0px 1px 2px rgba(60, 64, 67, 0.3), 0px 1px 3px 1px rgba(60, 64, 67, 0.15);\n",
              "      fill: #174EA6;\n",
              "    }\n",
              "\n",
              "    [theme=dark] .colab-df-convert {\n",
              "      background-color: #3B4455;\n",
              "      fill: #D2E3FC;\n",
              "    }\n",
              "\n",
              "    [theme=dark] .colab-df-convert:hover {\n",
              "      background-color: #434B5C;\n",
              "      box-shadow: 0px 1px 3px 1px rgba(0, 0, 0, 0.15);\n",
              "      filter: drop-shadow(0px 1px 2px rgba(0, 0, 0, 0.3));\n",
              "      fill: #FFFFFF;\n",
              "    }\n",
              "  </style>\n",
              "\n",
              "      <script>\n",
              "        const buttonEl =\n",
              "          document.querySelector('#df-165e73c7-015c-4fbe-9b50-606030a38fa7 button.colab-df-convert');\n",
              "        buttonEl.style.display =\n",
              "          google.colab.kernel.accessAllowed ? 'block' : 'none';\n",
              "\n",
              "        async function convertToInteractive(key) {\n",
              "          const element = document.querySelector('#df-165e73c7-015c-4fbe-9b50-606030a38fa7');\n",
              "          const dataTable =\n",
              "            await google.colab.kernel.invokeFunction('convertToInteractive',\n",
              "                                                     [key], {});\n",
              "          if (!dataTable) return;\n",
              "\n",
              "          const docLinkHtml = 'Like what you see? Visit the ' +\n",
              "            '<a target=\"_blank\" href=https://colab.research.google.com/notebooks/data_table.ipynb>data table notebook</a>'\n",
              "            + ' to learn more about interactive tables.';\n",
              "          element.innerHTML = '';\n",
              "          dataTable['output_type'] = 'display_data';\n",
              "          await google.colab.output.renderOutput(dataTable, element);\n",
              "          const docLink = document.createElement('div');\n",
              "          docLink.innerHTML = docLinkHtml;\n",
              "          element.appendChild(docLink);\n",
              "        }\n",
              "      </script>\n",
              "    </div>\n",
              "  </div>\n",
              "  "
            ]
          },
          "metadata": {}
        },
        {
          "output_type": "stream",
          "name": "stdout",
          "text": [
            "var1    1\n",
            "var2    1\n",
            "var3    1\n",
            "dtype: int64\n"
          ]
        }
      ]
    },
    {
      "cell_type": "markdown",
      "metadata": {
        "id": "pcNaRhT1FZia"
      },
      "source": [
        "#### Excersise\n",
        "filter all dataframe with a column with missing values."
      ]
    },
    {
      "cell_type": "markdown",
      "metadata": {
        "id": "FJdK7EgX17aC"
      },
      "source": [
        "## Datatime in pandas\n",
        "This is very useful module, the before funtions are very useful to cleaning data, due for isntance we casting to datatime a string we need see what values not were null and after cast become null, for instance not have sense 20/13/2019.\n",
        "due 13 not is a month.\n",
        "for instance we can uses:\n",
        "df[\n",
        "\n",
        "Timestamp()\n",
        "\n",
        "\n",
        "\n",
        "when you want casting you need are secure that are not missing values\n",
        "\n",
        "you can uses fillna(0).\n",
        "\n",
        "```python\n",
        "df['var']= df['var'].fillna(0)\n",
        "```\n",
        "\n",
        "take in mind that when you load a data set form a csv file, the dates are strings.\n",
        "\n",
        "to casting a correct datatime fortmat we can uses attributes of data for instances\n",
        "```python\n",
        "df['var_time'].dt.year\n",
        "```\n",
        "\n",
        "\n",
        "# ASTYPE\n",
        "you need cast a variable using astype('int')\n",
        "or the parameter could be 'float', object and so on."
      ]
    },
    {
      "cell_type": "markdown",
      "metadata": {
        "id": "OjLReqQW7JFw"
      },
      "source": [
        "# To read \n",
        "missing data pandas\n",
        "converting to timestamp\n",
        "basics..\n",
        "\n",
        "## timestamp \n",
        "Comes from UNIX (POSIX time):\n",
        "record the seconds elapsed from 0 hours of 1 of january 1970(*EPOCH*).\n",
        "\n",
        "\n",
        "\n",
        "# Format \n",
        "the module datetime allow us work with data objects.\n",
        "\n"
      ]
    },
    {
      "cell_type": "code",
      "metadata": {
        "colab": {
          "base_uri": "https://localhost:8080/"
        },
        "id": "cGVtu3w1GvOl",
        "outputId": "deef18de-9452-48f4-cfe6-427b4f73c769"
      },
      "source": [
        "import datetime\n",
        "x= datetime.datetime.now()\n",
        "print(x)\n",
        "# to string formats\n",
        "print(x.strftime(\"%d-%m-%Y\"))"
      ],
      "execution_count": 22,
      "outputs": [
        {
          "output_type": "stream",
          "name": "stdout",
          "text": [
            "2023-05-08 20:33:46.905926\n",
            "08-05-2023\n"
          ]
        }
      ]
    },
    {
      "cell_type": "markdown",
      "metadata": {
        "id": "_SBxrcGmIOK0"
      },
      "source": [
        "#Formats strings...\n",
        "\n",
        "%d\tDay of month 01-31\t31\n",
        "\n",
        "%B\tMonth name, full version\tDecember\n",
        "\n",
        "%m\tMonth as a number 01-12\t12\n",
        "\n",
        "%y\tYear, short version, without century\t18\n",
        "\n",
        "%Y\tYear, full version\t2018\n",
        "\n",
        "%j\tDay number of year 001-366\t365\n",
        "\n"
      ]
    },
    {
      "cell_type": "markdown",
      "metadata": {
        "id": "PprNcjtS5lm0"
      },
      "source": [
        "# From string to datatime..\n",
        "```python\n",
        "import datetime\n",
        "datetime.strptime('string',format)\n",
        "```"
      ]
    },
    {
      "cell_type": "code",
      "metadata": {
        "colab": {
          "base_uri": "https://localhost:8080/"
        },
        "id": "C3Z_n7se6mBU",
        "outputId": "0f09e9b7-b43d-439e-a3bc-3810fe423943"
      },
      "source": [
        "from datetime import datetime\n",
        "date = datetime.strptime('2010/12/23', '%Y/%m/%d')\n",
        "type(date)"
      ],
      "execution_count": 23,
      "outputs": [
        {
          "output_type": "execute_result",
          "data": {
            "text/plain": [
              "datetime.datetime"
            ]
          },
          "metadata": {},
          "execution_count": 23
        }
      ]
    },
    {
      "cell_type": "markdown",
      "metadata": {
        "id": "hBqcg9bV73Ys"
      },
      "source": [
        "# Pandas datetime\n"
      ]
    },
    {
      "cell_type": "code",
      "metadata": {
        "colab": {
          "base_uri": "https://localhost:8080/"
        },
        "id": "VyrM4NFr8OhU",
        "outputId": "ea1d2757-324c-4d38-a5d8-fed9b329063a"
      },
      "source": [
        "fechas = ['11/03/2009','12/04/2010', '13/05/2011']\n",
        "fechas_s= ['2009-28-01', '2013-12-12', '1998-05-08']\n",
        "df = {'ffone':fechas, 'fftwo':fechas_s}\n",
        "df= pd.DataFrame(df)\n",
        "df.dtypes"
      ],
      "execution_count": 24,
      "outputs": [
        {
          "output_type": "execute_result",
          "data": {
            "text/plain": [
              "ffone    object\n",
              "fftwo    object\n",
              "dtype: object"
            ]
          },
          "metadata": {},
          "execution_count": 24
        }
      ]
    },
    {
      "cell_type": "code",
      "metadata": {
        "colab": {
          "base_uri": "https://localhost:8080/"
        },
        "id": "yM2nVHa09ZnG",
        "outputId": "c1e9402f-6bdc-4d53-c491-5d3c3948fd16"
      },
      "source": [
        "df['ffone'] = pd.to_datetime(df['ffone'], format='%d/%m/%Y')\n",
        "df['fftwo'] = pd.to_datetime(df['fftwo'], format='%Y-%d-%m')\n",
        "df.info()\n",
        "df.head()\n",
        "# Extracting useful properties.\n",
        "df['ffone'].dt.year\n",
        "df['ffone'].dt.month\n",
        "print( df['ffone'].dt.day )\n",
        "print(df['fftwo'].dt.day)\n"
      ],
      "execution_count": 25,
      "outputs": [
        {
          "output_type": "stream",
          "name": "stdout",
          "text": [
            "<class 'pandas.core.frame.DataFrame'>\n",
            "RangeIndex: 3 entries, 0 to 2\n",
            "Data columns (total 2 columns):\n",
            " #   Column  Non-Null Count  Dtype         \n",
            "---  ------  --------------  -----         \n",
            " 0   ffone   3 non-null      datetime64[ns]\n",
            " 1   fftwo   3 non-null      datetime64[ns]\n",
            "dtypes: datetime64[ns](2)\n",
            "memory usage: 176.0 bytes\n",
            "0    11\n",
            "1    12\n",
            "2    13\n",
            "Name: ffone, dtype: int64\n",
            "0    28\n",
            "1    12\n",
            "2     5\n",
            "Name: fftwo, dtype: int64\n"
          ]
        }
      ]
    },
    {
      "cell_type": "markdown",
      "metadata": {
        "id": "W257j0nIJAKb"
      },
      "source": [
        "the function pd.to_datetime() have a parameter *error*\n",
        "If ‘coerce’, then invalid parsing will be set as NaT.\n",
        "\n",
        "Pandas.Timestamp is the pandas version of datetime.datetime.\n",
        "\n",
        "Now we can see \n",
        "\n",
        "# pandas.date_range()\n",
        "a DatetimeIndex is n-array to keep data.\n",
        "\n"
      ]
    },
    {
      "cell_type": "code",
      "metadata": {
        "colab": {
          "base_uri": "https://localhost:8080/"
        },
        "id": "9yt_wqzwNdVt",
        "outputId": "d162582a-a8ea-497e-a40e-32862f5874a4"
      },
      "source": [
        "pd.date_range(start='01/04/2018', end='01/12/2018')"
      ],
      "execution_count": 26,
      "outputs": [
        {
          "output_type": "execute_result",
          "data": {
            "text/plain": [
              "DatetimeIndex(['2018-01-04', '2018-01-05', '2018-01-06', '2018-01-07',\n",
              "               '2018-01-08', '2018-01-09', '2018-01-10', '2018-01-11',\n",
              "               '2018-01-12'],\n",
              "              dtype='datetime64[ns]', freq='D')"
            ]
          },
          "metadata": {},
          "execution_count": 26
        }
      ]
    },
    {
      "cell_type": "markdown",
      "metadata": {
        "id": "59Rq_PyyOlM-"
      },
      "source": [
        "*hint*: remember thath datetime, timedelta, timespan when are missing values are represented by NaT.\n",
        "\n",
        "think in handled data we can uses isna() joint with \n",
        "value_counts().\n"
      ]
    },
    {
      "cell_type": "markdown",
      "metadata": {
        "id": "wNP-pKiVUQVz"
      },
      "source": [
        "# Apply functions over pandas\n",
        "\n",
        "We can apply a function over all column with the function apply, for instance:\n",
        "\n"
      ]
    },
    {
      "cell_type": "code",
      "metadata": {
        "id": "JGDd3_U2VUUU"
      },
      "source": [
        "def mbase(x:float, y:float=100):\n",
        "  ans = round(x/y)\n",
        "  return ans"
      ],
      "execution_count": 27,
      "outputs": []
    },
    {
      "cell_type": "code",
      "metadata": {
        "colab": {
          "base_uri": "https://localhost:8080/"
        },
        "id": "iC9-EPKZV7ib",
        "outputId": "e3cb7fdf-13e1-4719-e497-87b7b6c12a7b"
      },
      "source": [
        "df = pd.DataFrame([np.random.randint(1000,2000) for x in range(100)])\n",
        "df[0].apply(lambda x: mbase(x,1000)) \n",
        "df[0].apply(mbase)"
      ],
      "execution_count": 28,
      "outputs": [
        {
          "output_type": "execute_result",
          "data": {
            "text/plain": [
              "0     15\n",
              "1     19\n",
              "2     19\n",
              "3     10\n",
              "4     19\n",
              "      ..\n",
              "95    14\n",
              "96    11\n",
              "97    19\n",
              "98    12\n",
              "99    15\n",
              "Name: 0, Length: 100, dtype: int64"
            ]
          },
          "metadata": {},
          "execution_count": 28
        }
      ]
    },
    {
      "cell_type": "markdown",
      "metadata": {
        "id": "8K5-mePCX5XM"
      },
      "source": [
        "## np.where and lambda to create strings\n"
      ]
    },
    {
      "cell_type": "code",
      "metadata": {
        "colab": {
          "base_uri": "https://localhost:8080/"
        },
        "id": "vTx10njUX8-d",
        "outputId": "5788f9c3-5b9d-41b7-a04c-2627d294fbd5"
      },
      "source": [
        "df[0].apply(lambda x: \"y\" if x <1300  else 'N')  # if we want multiple setnences then else ( )"
      ],
      "execution_count": 29,
      "outputs": [
        {
          "output_type": "execute_result",
          "data": {
            "text/plain": [
              "0     N\n",
              "1     N\n",
              "2     N\n",
              "3     y\n",
              "4     N\n",
              "     ..\n",
              "95    N\n",
              "96    y\n",
              "97    N\n",
              "98    y\n",
              "99    N\n",
              "Name: 0, Length: 100, dtype: object"
            ]
          },
          "metadata": {},
          "execution_count": 29
        }
      ]
    },
    {
      "cell_type": "markdown",
      "metadata": {
        "id": "lMoT1Gyrdfql"
      },
      "source": [
        "# Remember that \n",
        "axis = 0 is the column\n",
        "and axis = 1 is the row.\n",
        "if we have df with only numerical values then\n",
        "```python\n",
        "df.apply(sum)\n",
        "```\n",
        "will return the sum of each column namely by defadul axis=0.\n",
        "\n",
        "\n",
        "to apply a functon all over a dataset we can used \n",
        "```python\n",
        "df.applymap(lambda x: x.upper())\n",
        "```\n",
        "when df is only string.\n",
        "\n",
        "*Hint:* Notice that in apply the function itself is a paramter of apply method. \n",
        "\n",
        "__research about ternary operators__\n",
        "\n",
        "\n",
        "we want drop all rows of a specific column then:\n",
        "```python\n",
        "df.drop('var_name', axis=1).\n",
        "```\n"
      ]
    },
    {
      "cell_type": "code",
      "metadata": {
        "colab": {
          "base_uri": "https://localhost:8080/"
        },
        "id": "N6Ki4QzUntWE",
        "outputId": "939fd4e6-8f1c-4265-fff1-e3e48ca85a34"
      },
      "source": [
        "S = pd.Series((10,11,23,44), index=(100,200,300,400))\n",
        "200 in S # Note that this check in the index!!! "
      ],
      "execution_count": 30,
      "outputs": [
        {
          "output_type": "execute_result",
          "data": {
            "text/plain": [
              "True"
            ]
          },
          "metadata": {},
          "execution_count": 30
        }
      ]
    },
    {
      "cell_type": "markdown",
      "metadata": {
        "id": "cRl3KXm7sI5-"
      },
      "source": [
        "## Groupby \n"
      ]
    },
    {
      "cell_type": "code",
      "metadata": {
        "colab": {
          "base_uri": "https://localhost:8080/"
        },
        "id": "Hxme1mOA6fjQ",
        "outputId": "ccefcd62-67aa-4127-86fd-8a04ff246d77"
      },
      "source": [
        "groups = data.groupby(by='catg')\n",
        "for name, group in groups:\n",
        "  print(name, len(group))\n",
        "  "
      ],
      "execution_count": 31,
      "outputs": [
        {
          "output_type": "stream",
          "name": "stdout",
          "text": [
            "A 24\n",
            "B 28\n",
            "C 24\n",
            "D 24\n"
          ]
        }
      ]
    },
    {
      "cell_type": "code",
      "metadata": {
        "colab": {
          "base_uri": "https://localhost:8080/",
          "height": 802
        },
        "id": "M4E7t08P61zR",
        "outputId": "98e965d3-35b9-4767-f86b-5b531e3eb696"
      },
      "source": [
        "# getting a group\n",
        "C = groups.get_group('C')  # Returning  a dataset\n",
        "C"
      ],
      "execution_count": 32,
      "outputs": [
        {
          "output_type": "execute_result",
          "data": {
            "text/plain": [
              "     numeric catg\n",
              "4   0.698391    C\n",
              "14 -1.376871    C\n",
              "19  0.042862    C\n",
              "22 -1.051562    C\n",
              "26  0.639121    C\n",
              "28 -0.830466    C\n",
              "30  0.379133    C\n",
              "31 -0.769126    C\n",
              "33 -1.901120    C\n",
              "35  0.795446    C\n",
              "43  0.583232    C\n",
              "45 -0.029610    C\n",
              "52 -1.315909    C\n",
              "54  0.991212    C\n",
              "56  0.664136    C\n",
              "59  2.298314    C\n",
              "60 -0.328297    C\n",
              "63  0.742552    C\n",
              "64  0.736468    C\n",
              "85  0.675953    C\n",
              "87  0.724663    C\n",
              "94 -0.637302    C\n",
              "95  0.413089    C\n",
              "96  1.462657    C"
            ],
            "text/html": [
              "\n",
              "  <div id=\"df-f4e9edbb-96ae-4732-9395-d614cd8096ef\">\n",
              "    <div class=\"colab-df-container\">\n",
              "      <div>\n",
              "<style scoped>\n",
              "    .dataframe tbody tr th:only-of-type {\n",
              "        vertical-align: middle;\n",
              "    }\n",
              "\n",
              "    .dataframe tbody tr th {\n",
              "        vertical-align: top;\n",
              "    }\n",
              "\n",
              "    .dataframe thead th {\n",
              "        text-align: right;\n",
              "    }\n",
              "</style>\n",
              "<table border=\"1\" class=\"dataframe\">\n",
              "  <thead>\n",
              "    <tr style=\"text-align: right;\">\n",
              "      <th></th>\n",
              "      <th>numeric</th>\n",
              "      <th>catg</th>\n",
              "    </tr>\n",
              "  </thead>\n",
              "  <tbody>\n",
              "    <tr>\n",
              "      <th>4</th>\n",
              "      <td>0.698391</td>\n",
              "      <td>C</td>\n",
              "    </tr>\n",
              "    <tr>\n",
              "      <th>14</th>\n",
              "      <td>-1.376871</td>\n",
              "      <td>C</td>\n",
              "    </tr>\n",
              "    <tr>\n",
              "      <th>19</th>\n",
              "      <td>0.042862</td>\n",
              "      <td>C</td>\n",
              "    </tr>\n",
              "    <tr>\n",
              "      <th>22</th>\n",
              "      <td>-1.051562</td>\n",
              "      <td>C</td>\n",
              "    </tr>\n",
              "    <tr>\n",
              "      <th>26</th>\n",
              "      <td>0.639121</td>\n",
              "      <td>C</td>\n",
              "    </tr>\n",
              "    <tr>\n",
              "      <th>28</th>\n",
              "      <td>-0.830466</td>\n",
              "      <td>C</td>\n",
              "    </tr>\n",
              "    <tr>\n",
              "      <th>30</th>\n",
              "      <td>0.379133</td>\n",
              "      <td>C</td>\n",
              "    </tr>\n",
              "    <tr>\n",
              "      <th>31</th>\n",
              "      <td>-0.769126</td>\n",
              "      <td>C</td>\n",
              "    </tr>\n",
              "    <tr>\n",
              "      <th>33</th>\n",
              "      <td>-1.901120</td>\n",
              "      <td>C</td>\n",
              "    </tr>\n",
              "    <tr>\n",
              "      <th>35</th>\n",
              "      <td>0.795446</td>\n",
              "      <td>C</td>\n",
              "    </tr>\n",
              "    <tr>\n",
              "      <th>43</th>\n",
              "      <td>0.583232</td>\n",
              "      <td>C</td>\n",
              "    </tr>\n",
              "    <tr>\n",
              "      <th>45</th>\n",
              "      <td>-0.029610</td>\n",
              "      <td>C</td>\n",
              "    </tr>\n",
              "    <tr>\n",
              "      <th>52</th>\n",
              "      <td>-1.315909</td>\n",
              "      <td>C</td>\n",
              "    </tr>\n",
              "    <tr>\n",
              "      <th>54</th>\n",
              "      <td>0.991212</td>\n",
              "      <td>C</td>\n",
              "    </tr>\n",
              "    <tr>\n",
              "      <th>56</th>\n",
              "      <td>0.664136</td>\n",
              "      <td>C</td>\n",
              "    </tr>\n",
              "    <tr>\n",
              "      <th>59</th>\n",
              "      <td>2.298314</td>\n",
              "      <td>C</td>\n",
              "    </tr>\n",
              "    <tr>\n",
              "      <th>60</th>\n",
              "      <td>-0.328297</td>\n",
              "      <td>C</td>\n",
              "    </tr>\n",
              "    <tr>\n",
              "      <th>63</th>\n",
              "      <td>0.742552</td>\n",
              "      <td>C</td>\n",
              "    </tr>\n",
              "    <tr>\n",
              "      <th>64</th>\n",
              "      <td>0.736468</td>\n",
              "      <td>C</td>\n",
              "    </tr>\n",
              "    <tr>\n",
              "      <th>85</th>\n",
              "      <td>0.675953</td>\n",
              "      <td>C</td>\n",
              "    </tr>\n",
              "    <tr>\n",
              "      <th>87</th>\n",
              "      <td>0.724663</td>\n",
              "      <td>C</td>\n",
              "    </tr>\n",
              "    <tr>\n",
              "      <th>94</th>\n",
              "      <td>-0.637302</td>\n",
              "      <td>C</td>\n",
              "    </tr>\n",
              "    <tr>\n",
              "      <th>95</th>\n",
              "      <td>0.413089</td>\n",
              "      <td>C</td>\n",
              "    </tr>\n",
              "    <tr>\n",
              "      <th>96</th>\n",
              "      <td>1.462657</td>\n",
              "      <td>C</td>\n",
              "    </tr>\n",
              "  </tbody>\n",
              "</table>\n",
              "</div>\n",
              "      <button class=\"colab-df-convert\" onclick=\"convertToInteractive('df-f4e9edbb-96ae-4732-9395-d614cd8096ef')\"\n",
              "              title=\"Convert this dataframe to an interactive table.\"\n",
              "              style=\"display:none;\">\n",
              "        \n",
              "  <svg xmlns=\"http://www.w3.org/2000/svg\" height=\"24px\"viewBox=\"0 0 24 24\"\n",
              "       width=\"24px\">\n",
              "    <path d=\"M0 0h24v24H0V0z\" fill=\"none\"/>\n",
              "    <path d=\"M18.56 5.44l.94 2.06.94-2.06 2.06-.94-2.06-.94-.94-2.06-.94 2.06-2.06.94zm-11 1L8.5 8.5l.94-2.06 2.06-.94-2.06-.94L8.5 2.5l-.94 2.06-2.06.94zm10 10l.94 2.06.94-2.06 2.06-.94-2.06-.94-.94-2.06-.94 2.06-2.06.94z\"/><path d=\"M17.41 7.96l-1.37-1.37c-.4-.4-.92-.59-1.43-.59-.52 0-1.04.2-1.43.59L10.3 9.45l-7.72 7.72c-.78.78-.78 2.05 0 2.83L4 21.41c.39.39.9.59 1.41.59.51 0 1.02-.2 1.41-.59l7.78-7.78 2.81-2.81c.8-.78.8-2.07 0-2.86zM5.41 20L4 18.59l7.72-7.72 1.47 1.35L5.41 20z\"/>\n",
              "  </svg>\n",
              "      </button>\n",
              "      \n",
              "  <style>\n",
              "    .colab-df-container {\n",
              "      display:flex;\n",
              "      flex-wrap:wrap;\n",
              "      gap: 12px;\n",
              "    }\n",
              "\n",
              "    .colab-df-convert {\n",
              "      background-color: #E8F0FE;\n",
              "      border: none;\n",
              "      border-radius: 50%;\n",
              "      cursor: pointer;\n",
              "      display: none;\n",
              "      fill: #1967D2;\n",
              "      height: 32px;\n",
              "      padding: 0 0 0 0;\n",
              "      width: 32px;\n",
              "    }\n",
              "\n",
              "    .colab-df-convert:hover {\n",
              "      background-color: #E2EBFA;\n",
              "      box-shadow: 0px 1px 2px rgba(60, 64, 67, 0.3), 0px 1px 3px 1px rgba(60, 64, 67, 0.15);\n",
              "      fill: #174EA6;\n",
              "    }\n",
              "\n",
              "    [theme=dark] .colab-df-convert {\n",
              "      background-color: #3B4455;\n",
              "      fill: #D2E3FC;\n",
              "    }\n",
              "\n",
              "    [theme=dark] .colab-df-convert:hover {\n",
              "      background-color: #434B5C;\n",
              "      box-shadow: 0px 1px 3px 1px rgba(0, 0, 0, 0.15);\n",
              "      filter: drop-shadow(0px 1px 2px rgba(0, 0, 0, 0.3));\n",
              "      fill: #FFFFFF;\n",
              "    }\n",
              "  </style>\n",
              "\n",
              "      <script>\n",
              "        const buttonEl =\n",
              "          document.querySelector('#df-f4e9edbb-96ae-4732-9395-d614cd8096ef button.colab-df-convert');\n",
              "        buttonEl.style.display =\n",
              "          google.colab.kernel.accessAllowed ? 'block' : 'none';\n",
              "\n",
              "        async function convertToInteractive(key) {\n",
              "          const element = document.querySelector('#df-f4e9edbb-96ae-4732-9395-d614cd8096ef');\n",
              "          const dataTable =\n",
              "            await google.colab.kernel.invokeFunction('convertToInteractive',\n",
              "                                                     [key], {});\n",
              "          if (!dataTable) return;\n",
              "\n",
              "          const docLinkHtml = 'Like what you see? Visit the ' +\n",
              "            '<a target=\"_blank\" href=https://colab.research.google.com/notebooks/data_table.ipynb>data table notebook</a>'\n",
              "            + ' to learn more about interactive tables.';\n",
              "          element.innerHTML = '';\n",
              "          dataTable['output_type'] = 'display_data';\n",
              "          await google.colab.output.renderOutput(dataTable, element);\n",
              "          const docLink = document.createElement('div');\n",
              "          docLink.innerHTML = docLinkHtml;\n",
              "          element.appendChild(docLink);\n",
              "        }\n",
              "      </script>\n",
              "    </div>\n",
              "  </div>\n",
              "  "
            ]
          },
          "metadata": {},
          "execution_count": 32
        }
      ]
    },
    {
      "cell_type": "markdown",
      "metadata": {
        "id": "RdtH6Dql8PRF"
      },
      "source": [
        "# Aggretate functions\n",
        "```python\n",
        "groups['numeric'].mean()\n",
        "```\n",
        "* mean()\n",
        "* count()\n",
        "* size()\n",
        "* sum()\n",
        "* describe()\n",
        "\n",
        "When you grouped by a list \n",
        "```python\n",
        "groups.apply(max)\n",
        "```\n"
      ]
    },
    {
      "cell_type": "markdown",
      "metadata": {
        "id": "IAAZjoHy9-k7"
      },
      "source": [
        "# Merge and append\n",
        "the append it is carry  out with the following syntax\n",
        "```python\n",
        "append = pd.concat([df1,df2])\n",
        "```\n",
        "merge by index, it is used when both datasets have the same index:\n",
        "```python\n",
        "join = df1.join(df2)\n",
        "```\n",
        "sometimes both datasets have columns with the same name, then we need specify rsuffix or lsuffix.\n"
      ]
    },
    {
      "cell_type": "code",
      "metadata": {
        "colab": {
          "base_uri": "https://localhost:8080/"
        },
        "id": "lLQMTh5QEymx",
        "outputId": "9ff4bfc6-bd13-4905-ca8a-06e41f351cce"
      },
      "source": [
        "~data['catg'].isin(['D'])  # Note tha tilde inverse"
      ],
      "execution_count": 33,
      "outputs": [
        {
          "output_type": "execute_result",
          "data": {
            "text/plain": [
              "0      True\n",
              "1      True\n",
              "2     False\n",
              "3      True\n",
              "4      True\n",
              "      ...  \n",
              "95     True\n",
              "96     True\n",
              "97    False\n",
              "98    False\n",
              "99     True\n",
              "Name: catg, Length: 100, dtype: bool"
            ]
          },
          "metadata": {},
          "execution_count": 33
        }
      ]
    },
    {
      "cell_type": "markdown",
      "metadata": {
        "id": "wO_Qj4gBHRfs"
      },
      "source": [
        "# plotting with pandas\n",
        "\n",
        "\n",
        "histogram:\n",
        "\n"
      ]
    },
    {
      "cell_type": "code",
      "metadata": {
        "colab": {
          "base_uri": "https://localhost:8080/",
          "height": 462
        },
        "id": "gHhyqaGpK2CB",
        "outputId": "7faae355-063a-4870-9139-dae3dcdab5bf"
      },
      "source": [
        "data['numeric'].plot(kind='hist', figsize=(5,5))\n",
        "#figzise (ancho,alto)\n",
        "data['numeric'].plot.hist(figsize=(5,5)) # return the same"
      ],
      "execution_count": 34,
      "outputs": [
        {
          "output_type": "execute_result",
          "data": {
            "text/plain": [
              "<Axes: ylabel='Frequency'>"
            ]
          },
          "metadata": {},
          "execution_count": 34
        },
        {
          "output_type": "display_data",
          "data": {
            "text/plain": [
              "<Figure size 500x500 with 1 Axes>"
            ],
            "image/png": "[encoded data removed]"
          },
          "metadata": {}
        }
      ]
    },
    {
      "cell_type": "markdown",
      "metadata": {
        "id": "pyuL7hhjM05H"
      },
      "source": [
        "# Paramters to plotting:\n",
        "xlim(low, high) indicate the range of x-axis.\n",
        "bins(#) the number of rectangles in histogram.\n",
        "ylim().\n",
        "title('title the graph')\n",
        "\n",
        "\n",
        "# We can uses steel sheet of matplotlib\n",
        "matplotlib.style.use('seaborn-darkgrid')\n",
        "\n",
        "to improve the graph we can:\n"
      ]
    },
    {
      "cell_type": "code",
      "metadata": {
        "colab": {
          "base_uri": "https://localhost:8080/",
          "height": 483
        },
        "id": "iYjqd4iaN2zP",
        "outputId": "ede764d4-3ca7-4cb1-9525-4e87b86332e3"
      },
      "source": [
        "ax = data['numeric'].plot(kind='hist', xlim=(0,2), y=(0,21), title='histogram')\n",
        "ax.set_xlabel('valor', fontsize=12)\n",
        "ax.xaxis.set_label_coords(0.5,-0.1)\n",
        "ax.set_ylabel('eje y ', fontsize=20)\n",
        "fig = ax.get_figure()  # get a object of kind figure used to save\n",
        "fig.savefig('histogram.jpg') "
      ],
      "execution_count": 35,
      "outputs": [
        {
          "output_type": "display_data",
          "data": {
            "text/plain": [
              "<Figure size 640x480 with 1 Axes>"
            ],
            "image/png": "[encoded data removed]"
          },
          "metadata": {}
        }
      ]
    },
    {
      "cell_type": "markdown",
      "metadata": {
        "id": "wAJyzl-EYlSo"
      },
      "source": [
        "## Bar plot\n"
      ]
    },
    {
      "cell_type": "code",
      "metadata": {
        "colab": {
          "base_uri": "https://localhost:8080/",
          "height": 348
        },
        "id": "yfNxtmtpYCPp",
        "outputId": "3a443cdc-5a81-4497-bee7-cc0ddeb66628"
      },
      "source": [
        "hig=data['catg'].value_counts()\n",
        "hig.plot(kind='bar', figsize=(3,3), fontsize=11, xlabel='Categories', ylabel='Relative frecuency', title='Histograma')\n",
        "# Check the parameter logy=True"
      ],
      "execution_count": 36,
      "outputs": [
        {
          "output_type": "execute_result",
          "data": {
            "text/plain": [
              "<Axes: title={'center': 'Histograma'}, xlabel='Categories', ylabel='Relative frecuency'>"
            ]
          },
          "metadata": {},
          "execution_count": 36
        },
        {
          "output_type": "display_data",
          "data": {
            "text/plain": [
              "<Figure size 300x300 with 1 Axes>"
            ],
            "image/png": "[encoded data removed]"
          },
          "metadata": {}
        }
      ]
    },
    {
      "cell_type": "markdown",
      "metadata": {
        "id": "ikSmazNGsUuN"
      },
      "source": [
        "# Boxplot\n"
      ]
    },
    {
      "cell_type": "code",
      "metadata": {
        "colab": {
          "base_uri": "https://localhost:8080/",
          "height": 447
        },
        "id": "qpPRtT0LtNRM",
        "outputId": "2f5bac32-3f16-4934-e1a7-83e67bd62555"
      },
      "source": [
        "data['numeric+r'] = data['numeric'] + np.random.randint(0,5)\n",
        "data[['numeric','numeric+r']].plot(kind='box')  "
      ],
      "execution_count": 37,
      "outputs": [
        {
          "output_type": "execute_result",
          "data": {
            "text/plain": [
              "<Axes: >"
            ]
          },
          "metadata": {},
          "execution_count": 37
        },
        {
          "output_type": "display_data",
          "data": {
            "text/plain": [
              "<Figure size 640x480 with 1 Axes>"
            ],
            "image/png": "[encoded data removed]"
          },
          "metadata": {}
        }
      ]
    },
    {
      "cell_type": "markdown",
      "metadata": {
        "id": "miPAexkQufjd"
      },
      "source": [
        "to extended features of boxplot dont uses kind "
      ]
    },
    {
      "cell_type": "code",
      "metadata": {
        "colab": {
          "base_uri": "https://localhost:8080/",
          "height": 498
        },
        "id": "HuCLucFjukbN",
        "outputId": "68fd9519-ba8c-480e-8b10-13f774a55e13"
      },
      "source": [
        "data[['numeric','catg']].boxplot(by='catg', rot=125) ## this is very useful to labels management."
      ],
      "execution_count": 38,
      "outputs": [
        {
          "output_type": "execute_result",
          "data": {
            "text/plain": [
              "<Axes: title={'center': 'numeric'}, xlabel='[catg]'>"
            ]
          },
          "metadata": {},
          "execution_count": 38
        },
        {
          "output_type": "display_data",
          "data": {
            "text/plain": [
              "<Figure size 640x480 with 1 Axes>"
            ],
            "image/png": "[encoded data removed]"
          },
          "metadata": {}
        }
      ]
    },
    {
      "cell_type": "markdown",
      "metadata": {
        "id": "kT82j9DlvYuU"
      },
      "source": [
        "# Customize boxplot\n",
        "colores = {'boxes': '#000000' , 'whiskers':'#000000' , 'medians':'#000000', 'caps':'#000000'} "
      ]
    },
    {
      "cell_type": "code",
      "metadata": {
        "colab": {
          "base_uri": "https://localhost:8080/",
          "height": 447
        },
        "id": "FWLOnjl9xlKY",
        "outputId": "f0077ed9-4da1-4512-dc7c-4d75459fb6d5"
      },
      "source": [
        "colores = {'boxes': '#000000' , 'whiskers':'#000000' , 'medians':'#000000', 'caps':'#000000'} \n",
        "data[['numeric']].boxplot(color=colores, grid=False , notch=True, sym='*', showmeans=True, widths=0.22)  # take in mind that the attribute is that the dataframe no series.\n",
        "# we can also used df.boxplot(by='', column=[])"
      ],
      "execution_count": 39,
      "outputs": [
        {
          "output_type": "execute_result",
          "data": {
            "text/plain": [
              "<Axes: >"
            ]
          },
          "metadata": {},
          "execution_count": 39
        },
        {
          "output_type": "display_data",
          "data": {
            "text/plain": [
              "<Figure size 640x480 with 1 Axes>"
            ],
            "image/png": "[encoded data removed]"
          },
          "metadata": {}
        }
      ]
    },
    {
      "cell_type": "markdown",
      "metadata": {
        "id": "wAoRClHq2TiM"
      },
      "source": [
        "# Dispersion Scatter plot\n"
      ]
    },
    {
      "cell_type": "code",
      "metadata": {
        "colab": {
          "base_uri": "https://localhost:8080/",
          "height": 466
        },
        "id": "w81INaL72oRg",
        "outputId": "1bc3c85f-ed51-4a2a-de38-8951277350bc"
      },
      "source": [
        "data.plot(kind='scatter', x='numeric', y='numeric+r')"
      ],
      "execution_count": 40,
      "outputs": [
        {
          "output_type": "execute_result",
          "data": {
            "text/plain": [
              "<Axes: xlabel='numeric', ylabel='numeric+r'>"
            ]
          },
          "metadata": {},
          "execution_count": 40
        },
        {
          "output_type": "display_data",
          "data": {
            "text/plain": [
              "<Figure size 640x480 with 1 Axes>"
            ],
            "image/png": "[encoded data removed]"
          },
          "metadata": {}
        }
      ]
    },
    {
      "cell_type": "code",
      "metadata": {
        "id": "H4pwT-Sb3rFM"
      },
      "source": [
        "data['weights'] = [np.random.randint(0,100) for x in df.index]\n"
      ],
      "execution_count": 41,
      "outputs": []
    },
    {
      "cell_type": "code",
      "metadata": {
        "colab": {
          "base_uri": "https://localhost:8080/",
          "height": 449
        },
        "id": "aDWER35E34dE",
        "outputId": "0a28ce78-223e-46ba-e49d-023df1f94fda"
      },
      "source": [
        "sub = data.plot(kind='scatter', x='numeric', y=['numeric+r'], s='weights' , color='black', label='sc1')\n",
        "sub2=data.plot(kind='scatter', x='numeric', y='numeric+r',  color='blue', ax=sub, label='fig2')\n"
      ],
      "execution_count": 42,
      "outputs": [
        {
          "output_type": "display_data",
          "data": {
            "text/plain": [
              "<Figure size 640x480 with 1 Axes>"
            ],
            "image/png": "[encoded data removed]"
          },
          "metadata": {}
        }
      ]
    },
    {
      "cell_type": "code",
      "metadata": {
        "colab": {
          "base_uri": "https://localhost:8080/",
          "height": 608
        },
        "id": "BfzZkic10ZP2",
        "outputId": "24d7a5a4-3c5e-4e7d-c904-9787909a1ba0"
      },
      "source": [
        "from pandas.plotting import scatter_matrix\n",
        "scatter_matrix(data, alpha=0.9, diagonal='kde')"
      ],
      "execution_count": 43,
      "outputs": [
        {
          "output_type": "execute_result",
          "data": {
            "text/plain": [
              "array([[<Axes: xlabel='numeric', ylabel='numeric'>,\n",
              "        <Axes: xlabel='numeric+r', ylabel='numeric'>,\n",
              "        <Axes: xlabel='weights', ylabel='numeric'>],\n",
              "       [<Axes: xlabel='numeric', ylabel='numeric+r'>,\n",
              "        <Axes: xlabel='numeric+r', ylabel='numeric+r'>,\n",
              "        <Axes: xlabel='weights', ylabel='numeric+r'>],\n",
              "       [<Axes: xlabel='numeric', ylabel='weights'>,\n",
              "        <Axes: xlabel='numeric+r', ylabel='weights'>,\n",
              "        <Axes: xlabel='weights', ylabel='weights'>]], dtype=object)"
            ]
          },
          "metadata": {},
          "execution_count": 43
        },
        {
          "output_type": "display_data",
          "data": {
            "text/plain": [
              "<Figure size 640x480 with 9 Axes>"
            ],
            "image/png": "[encoded data removed]"
          },
          "metadata": {}
        }
      ]
    },
    {
      "cell_type": "markdown",
      "metadata": {
        "id": "b1LnSmPezlh3"
      },
      "source": []
    },
    {
      "cell_type": "code",
      "metadata": {
        "colab": {
          "base_uri": "https://localhost:8080/",
          "height": 301
        },
        "id": "Xxhq6-io1ZDO",
        "outputId": "3637d7e7-6c66-491b-ba70-ccb2d1d647f1"
      },
      "source": [
        "data.plot(kind='hist', subplots=True, layout=(2,3))  # check sharey=True\n"
      ],
      "execution_count": 44,
      "outputs": [
        {
          "output_type": "execute_result",
          "data": {
            "text/plain": [
              "array([[<Axes: ylabel='Frequency'>, <Axes: ylabel='Frequency'>,\n",
              "        <Axes: ylabel='Frequency'>],\n",
              "       [<Axes: ylabel='Frequency'>, <Axes: ylabel='Frequency'>,\n",
              "        <Axes: ylabel='Frequency'>]], dtype=object)"
            ]
          },
          "metadata": {},
          "execution_count": 44
        },
        {
          "output_type": "display_data",
          "data": {
            "text/plain": [
              "<Figure size 640x480 with 6 Axes>"
            ],
            "image/png": "[encoded data removed]"
          },
          "metadata": {}
        }
      ]
    }
  ]
}