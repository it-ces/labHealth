{
 "cells": [
  {
   "cell_type": "markdown",
   "metadata": {},
   "source": [
    "# Code to simulate database\n",
    "```python\n",
    "import numpy as np \n",
    "import random\n",
    "import pandas as pd \n",
    "import matplotlib.pyplot as plt\n",
    "a = ['disease','no disease']\n",
    "b = ['Female', 'male']\n",
    "N = 100\n",
    "var1= [random.choice(a) for x in range(N)]\n",
    "var2= [random.choice(b) for x in range(N)]\n",
    "var3 = [ np.random.weibull(1, N)]\n",
    "var4 = [np.random.randint(24,60) for x in range(N)]\n",
    "df = pd.DataFrame({'var1':var1, 'var2':var2, 'var3':var3[0], 'var4':var4}, )\n",
    "df.to_excel('database.xls')\n",
    "```"
   ]
  },
  {
   "cell_type": "markdown",
   "metadata": {},
   "source": [
    "# Data Analysis \n",
    "\n",
    "## Load datasets\n",
    "python uses pandas to handle data structures\n",
    "```python\n",
    "import pandas\n",
    "```\n",
    "\n",
    "## Load data with pandas \n",
    "```python\n",
    "df = pd.read_excel('file name')\n",
    "```\n",
    "\n",
    "\n",
    "\n",
    "## EDA it is a first approximation to understand data \n",
    "\n",
    "* shape ( rows and columns)\n",
    "* missing values\n",
    "\n",
    "## Descriptive statistics \n",
    "```python\n",
    "describe()\n",
    "value_counts()\n",
    "```"
   ]
  },
  {
   "cell_type": "code",
   "execution_count": 110,
   "metadata": {},
   "outputs": [],
   "source": []
  }
 ],
 "metadata": {
  "hide_input": false,
  "kernelspec": {
   "display_name": "Python 3",
   "language": "python",
   "name": "python3"
  },
  "language_info": {
   "codemirror_mode": {
    "name": "ipython",
    "version": 3
   },
   "file_extension": ".py",
   "mimetype": "text/x-python",
   "name": "python",
   "nbconvert_exporter": "python",
   "pygments_lexer": "ipython3",
   "version": "3.8.6"
  },
  "latex_envs": {
   "LaTeX_envs_menu_present": true,
   "autoclose": false,
   "autocomplete": true,
   "bibliofile": "biblio.bib",
   "cite_by": "apalike",
   "current_citInitial": 1,
   "eqLabelWithNumbers": true,
   "eqNumInitial": 1,
   "hotkeys": {
    "equation": "Ctrl-E",
    "itemize": "Ctrl-I"
   },
   "labels_anchors": false,
   "latex_user_defs": false,
   "report_style_numbering": false,
   "user_envs_cfg": false
  },
  "varInspector": {
   "cols": {
    "lenName": 16,
    "lenType": 16,
    "lenVar": 40
   },
   "kernels_config": {
    "python": {
     "delete_cmd_postfix": "",
     "delete_cmd_prefix": "del ",
     "library": "var_list.py",
     "varRefreshCmd": "print(var_dic_list())"
    },
    "r": {
     "delete_cmd_postfix": ") ",
     "delete_cmd_prefix": "rm(",
     "library": "var_list.r",
     "varRefreshCmd": "cat(var_dic_list()) "
    }
   },
   "types_to_exclude": [
    "module",
    "function",
    "builtin_function_or_method",
    "instance",
    "_Feature"
   ],
   "window_display": false
  }
 },
 "nbformat": 4,
 "nbformat_minor": 4
}
